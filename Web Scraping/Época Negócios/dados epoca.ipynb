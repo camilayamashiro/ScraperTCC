{
 "cells": [
  {
   "cell_type": "code",
   "execution_count": null,
   "metadata": {},
   "outputs": [],
   "source": [
    "# Importando bibliotecas\n",
    "from urllib.request import Request, urlopen\n",
    "from bs4 import BeautifulSoup\n",
    "import pandas\n",
    "\n",
    "# Declarando variáveis\n",
    "artigos = []\n",
    "\n",
    "# Obtendo o HTML\n",
    "req = Request('https://epocanegocios.globo.com/busca/?q=transforma%C3%A7%C3%A3o+digital&species=not%C3%ADcias&page=1', headers={'User-Agent': 'Mozilla/5.0'})\n",
    "html = urlopen(req).read()\n",
    "soup = BeautifulSoup(html,'html.parser')\n",
    "pages = 20\n",
    "\n",
    "# Iterando por todas as páginas do site\n",
    "for i in range(pages):\n",
    "    ## Obtendo o HTML\n",
    "    req = Request('https://epocanegocios.globo.com/busca/?q=transforma%C3%A7%C3%A3o+digital&species=not%C3%ADcias&page=' + str (i + 1), headers={'User-Agent': 'Mozilla/5.0'})\n",
    "    html = urlopen(req).read()\n",
    "    soup = BeautifulSoup(html,'html.parser')\n",
    "    # Obtendo as TAGs de interesse\n",
    "    noticias = soup.find('ul',{'class':'resultado_da_busca unstyled'}).findAll('li', {'class':'species-materia'})\n",
    "    \n",
    "    # Coletando as informações das NOTICIAS\n",
    "    for noticia in noticias:\n",
    "        artigo = {}\n",
    "        # Titulo\n",
    "        artigo['titulo'] = noticia.find('a', {'class': 'busca-titulo'}).getText().strip()\n",
    "        # Descrição\n",
    "        artigo['description'] = noticia.find('p', {'class': 'busca-highlight'}).getText().strip()\n",
    "        # Data\n",
    "        artigo['data'] = noticia.find('span', {'class': 'busca-tempo-decorrido'}).getText().strip()\n",
    "\n",
    "        #Adicionando resultado a lista de artigos\n",
    "        artigos.append(artigo)\n",
    "    \n",
    "# Criando um dataframe com os resultados\n",
    "epoca = pandas.DataFrame(artigos)\n",
    "epoca.to_csv('./epoca.csv', sep=';')\n",
    "epoca\n",
    "    \n",
    "    "
   ]
  },
  {
   "cell_type": "code",
   "execution_count": null,
   "metadata": {},
   "outputs": [],
   "source": []
  },
  {
   "cell_type": "code",
   "execution_count": null,
   "metadata": {},
   "outputs": [],
   "source": []
  }
 ],
 "metadata": {
  "kernelspec": {
   "display_name": "Python 3",
   "language": "python",
   "name": "python3"
  },
  "language_info": {
   "codemirror_mode": {
    "name": "ipython",
    "version": 3
   },
   "file_extension": ".py",
   "mimetype": "text/x-python",
   "name": "python",
   "nbconvert_exporter": "python",
   "pygments_lexer": "ipython3",
   "version": "3.8.3"
  }
 },
 "nbformat": 4,
 "nbformat_minor": 4
}
